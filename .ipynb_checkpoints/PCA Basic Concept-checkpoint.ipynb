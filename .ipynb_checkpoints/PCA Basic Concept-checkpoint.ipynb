{
 "cells": [
  {
   "cell_type": "markdown",
   "metadata": {},
   "source": [
    "<p Principle Component Analysis"
   ]
  },
  {
   "cell_type": "markdown",
   "metadata": {},
   "source": [
    "# Basics Principle Component Analysis \n",
    "***"
   ]
  },
  {
   "cell_type": "markdown",
   "metadata": {},
   "source": [
    "[Click here for Youtube: Principal Component Analysis (PCA) by Luis Serrano](https://www.youtube.com/watch?v=g-Hb26agBFg)"
   ]
  },
  {
   "cell_type": "markdown",
   "metadata": {},
   "source": [
    " ### What is dimensionallity Reduction?\n",
    " \n",
    " Reducing the number of input variables for a predictive model is referred to as dimensionality reduction."
   ]
  },
  {
   "cell_type": "markdown",
   "metadata": {},
   "source": [
    " ### What is Principal Component Analysis (PCA)?\n",
    "It is one of the most widely used dimension reduction techniques to transform the larger dataset into a smaller dataset by identifying the correlations and patterns with preserving most of the valuable information."
   ]
  },
  {
   "cell_type": "markdown",
   "metadata": {},
   "source": [
    " ### The need for PCA?\n",
    "It is used to overcome feature redundancy in the dataset. Also, it aims to capture valuable information explaining high variance which results in providing the best accuracy. It makes the data visualizations easy to handle. It decreases the complexity of the model and increases computational efficiency.\n",
    "***"
   ]
  },
  {
   "cell_type": "markdown",
   "metadata": {},
   "source": [
    "# Assumption in PCA:"
   ]
  },
  {
   "cell_type": "markdown",
   "metadata": {},
   "source": [
    "PCA is based on the Pearson correlation coefficient framework and inherits similar assumptions.\n",
    "\n",
    "* Sample size: Minimum of 150 observations and ideally a 5:1 ratio of observation to features (Pallant, 2010)\n",
    "\n",
    "\n",
    "* Correlations: The feature set is correlated, so the reduced feature set effectively represents the original data space.\n",
    "\n",
    "\n",
    "* Linearity: All variables exhibit a constant multivariate normal relationship, and principal components are a linear combination of the original features.\n",
    "\n",
    "\n",
    "* Outliers: No significant outliers in the data as these can have a disproportionate influence on the results.\n",
    "\n",
    "\n",
    "* Large variance implies more structure: high variance axes are treated as principal components, while low variance axes are treated as noise and discarded."
   ]
  },
  {
   "cell_type": "markdown",
   "metadata": {},
   "source": [
    "# Step 1: Import required Libraries.. "
   ]
  },
  {
   "cell_type": "code",
   "execution_count": 1,
   "metadata": {},
   "outputs": [],
   "source": [
    "import pandas as pd               \n",
    "import numpy as np"
   ]
  },
  {
   "cell_type": "markdown",
   "metadata": {},
   "source": [
    "# Step 2: Load the dataset"
   ]
  },
  {
   "cell_type": "code",
   "execution_count": 2,
   "metadata": {},
   "outputs": [
    {
     "data": {
      "text/html": [
       "<div>\n",
       "<style scoped>\n",
       "    .dataframe tbody tr th:only-of-type {\n",
       "        vertical-align: middle;\n",
       "    }\n",
       "\n",
       "    .dataframe tbody tr th {\n",
       "        vertical-align: top;\n",
       "    }\n",
       "\n",
       "    .dataframe thead th {\n",
       "        text-align: right;\n",
       "    }\n",
       "</style>\n",
       "<table border=\"1\" class=\"dataframe\">\n",
       "  <thead>\n",
       "    <tr style=\"text-align: right;\">\n",
       "      <th></th>\n",
       "      <th>Brand</th>\n",
       "      <th>mois</th>\n",
       "      <th>prot</th>\n",
       "      <th>fat</th>\n",
       "      <th>ash</th>\n",
       "      <th>sodium</th>\n",
       "      <th>carb</th>\n",
       "      <th>cal</th>\n",
       "    </tr>\n",
       "  </thead>\n",
       "  <tbody>\n",
       "    <tr>\n",
       "      <th>0</th>\n",
       "      <td>A</td>\n",
       "      <td>27.82</td>\n",
       "      <td>21.43</td>\n",
       "      <td>44.87</td>\n",
       "      <td>5.11</td>\n",
       "      <td>1.77</td>\n",
       "      <td>0.77</td>\n",
       "      <td>4.93</td>\n",
       "    </tr>\n",
       "    <tr>\n",
       "      <th>1</th>\n",
       "      <td>A</td>\n",
       "      <td>28.49</td>\n",
       "      <td>21.26</td>\n",
       "      <td>43.89</td>\n",
       "      <td>5.34</td>\n",
       "      <td>1.79</td>\n",
       "      <td>1.02</td>\n",
       "      <td>4.84</td>\n",
       "    </tr>\n",
       "    <tr>\n",
       "      <th>2</th>\n",
       "      <td>A</td>\n",
       "      <td>28.35</td>\n",
       "      <td>19.99</td>\n",
       "      <td>45.78</td>\n",
       "      <td>5.08</td>\n",
       "      <td>1.63</td>\n",
       "      <td>0.80</td>\n",
       "      <td>4.95</td>\n",
       "    </tr>\n",
       "    <tr>\n",
       "      <th>3</th>\n",
       "      <td>A</td>\n",
       "      <td>30.55</td>\n",
       "      <td>20.15</td>\n",
       "      <td>43.13</td>\n",
       "      <td>4.79</td>\n",
       "      <td>1.61</td>\n",
       "      <td>1.38</td>\n",
       "      <td>4.74</td>\n",
       "    </tr>\n",
       "    <tr>\n",
       "      <th>4</th>\n",
       "      <td>A</td>\n",
       "      <td>30.49</td>\n",
       "      <td>21.28</td>\n",
       "      <td>41.65</td>\n",
       "      <td>4.82</td>\n",
       "      <td>1.64</td>\n",
       "      <td>1.76</td>\n",
       "      <td>4.67</td>\n",
       "    </tr>\n",
       "  </tbody>\n",
       "</table>\n",
       "</div>"
      ],
      "text/plain": [
       "  Brand   mois   prot    fat   ash  sodium  carb   cal\n",
       "0     A  27.82  21.43  44.87  5.11    1.77  0.77  4.93\n",
       "1     A  28.49  21.26  43.89  5.34    1.79  1.02  4.84\n",
       "2     A  28.35  19.99  45.78  5.08    1.63  0.80  4.95\n",
       "3     A  30.55  20.15  43.13  4.79    1.61  1.38  4.74\n",
       "4     A  30.49  21.28  41.65  4.82    1.64  1.76  4.67"
      ]
     },
     "execution_count": 2,
     "metadata": {},
     "output_type": "execute_result"
    }
   ],
   "source": [
    "dataset = pd.read_csv('Pizza.csv')\n",
    "dataset.head()"
   ]
  },
  {
   "cell_type": "markdown",
   "metadata": {},
   "source": [
    " Here brand is depednet variable. Since we are applying PCA on indepedent variable.. we don'y need Brand coulmn. So will drop Brand column."
   ]
  },
  {
   "cell_type": "code",
   "execution_count": 3,
   "metadata": {},
   "outputs": [],
   "source": [
    "dataset1 = dataset.drop(['Brand'],axis=1)"
   ]
  },
  {
   "cell_type": "code",
   "execution_count": 4,
   "metadata": {},
   "outputs": [
    {
     "data": {
      "text/plain": [
       "(300, 7)"
      ]
     },
     "execution_count": 4,
     "metadata": {},
     "output_type": "execute_result"
    }
   ],
   "source": [
    "dataset1.shape"
   ]
  },
  {
   "cell_type": "code",
   "execution_count": 5,
   "metadata": {},
   "outputs": [
    {
     "data": {
      "text/html": [
       "<div>\n",
       "<style scoped>\n",
       "    .dataframe tbody tr th:only-of-type {\n",
       "        vertical-align: middle;\n",
       "    }\n",
       "\n",
       "    .dataframe tbody tr th {\n",
       "        vertical-align: top;\n",
       "    }\n",
       "\n",
       "    .dataframe thead th {\n",
       "        text-align: right;\n",
       "    }\n",
       "</style>\n",
       "<table border=\"1\" class=\"dataframe\">\n",
       "  <thead>\n",
       "    <tr style=\"text-align: right;\">\n",
       "      <th></th>\n",
       "      <th>mois</th>\n",
       "      <th>prot</th>\n",
       "      <th>fat</th>\n",
       "      <th>ash</th>\n",
       "      <th>sodium</th>\n",
       "      <th>carb</th>\n",
       "      <th>cal</th>\n",
       "    </tr>\n",
       "  </thead>\n",
       "  <tbody>\n",
       "    <tr>\n",
       "      <th>0</th>\n",
       "      <td>27.82</td>\n",
       "      <td>21.43</td>\n",
       "      <td>44.87</td>\n",
       "      <td>5.11</td>\n",
       "      <td>1.77</td>\n",
       "      <td>0.77</td>\n",
       "      <td>4.93</td>\n",
       "    </tr>\n",
       "    <tr>\n",
       "      <th>1</th>\n",
       "      <td>28.49</td>\n",
       "      <td>21.26</td>\n",
       "      <td>43.89</td>\n",
       "      <td>5.34</td>\n",
       "      <td>1.79</td>\n",
       "      <td>1.02</td>\n",
       "      <td>4.84</td>\n",
       "    </tr>\n",
       "    <tr>\n",
       "      <th>2</th>\n",
       "      <td>28.35</td>\n",
       "      <td>19.99</td>\n",
       "      <td>45.78</td>\n",
       "      <td>5.08</td>\n",
       "      <td>1.63</td>\n",
       "      <td>0.80</td>\n",
       "      <td>4.95</td>\n",
       "    </tr>\n",
       "    <tr>\n",
       "      <th>3</th>\n",
       "      <td>30.55</td>\n",
       "      <td>20.15</td>\n",
       "      <td>43.13</td>\n",
       "      <td>4.79</td>\n",
       "      <td>1.61</td>\n",
       "      <td>1.38</td>\n",
       "      <td>4.74</td>\n",
       "    </tr>\n",
       "    <tr>\n",
       "      <th>4</th>\n",
       "      <td>30.49</td>\n",
       "      <td>21.28</td>\n",
       "      <td>41.65</td>\n",
       "      <td>4.82</td>\n",
       "      <td>1.64</td>\n",
       "      <td>1.76</td>\n",
       "      <td>4.67</td>\n",
       "    </tr>\n",
       "  </tbody>\n",
       "</table>\n",
       "</div>"
      ],
      "text/plain": [
       "    mois   prot    fat   ash  sodium  carb   cal\n",
       "0  27.82  21.43  44.87  5.11    1.77  0.77  4.93\n",
       "1  28.49  21.26  43.89  5.34    1.79  1.02  4.84\n",
       "2  28.35  19.99  45.78  5.08    1.63  0.80  4.95\n",
       "3  30.55  20.15  43.13  4.79    1.61  1.38  4.74\n",
       "4  30.49  21.28  41.65  4.82    1.64  1.76  4.67"
      ]
     },
     "execution_count": 5,
     "metadata": {},
     "output_type": "execute_result"
    }
   ],
   "source": [
    "dataset1.head()"
   ]
  },
  {
   "cell_type": "code",
   "execution_count": 6,
   "metadata": {},
   "outputs": [
    {
     "data": {
      "text/plain": [
       "7"
      ]
     },
     "execution_count": 6,
     "metadata": {},
     "output_type": "execute_result"
    }
   ],
   "source": [
    "len(dataset1.keys()) #total column numbers.."
   ]
  },
  {
   "cell_type": "markdown",
   "metadata": {},
   "source": [
    "# Step 3: Standardization of data"
   ]
  },
  {
   "cell_type": "markdown",
   "metadata": {},
   "source": [
    "Before proceeding with PCA, we need to perform the standardization of the data.\n",
    "\n",
    "\n",
    "Performing standardization is a crucial step because the original variables may have different scales. We need to bring them to a similar range to get reasonable covariance analysis."
   ]
  },
  {
   "cell_type": "code",
   "execution_count": 7,
   "metadata": {},
   "outputs": [],
   "source": [
    "from sklearn.preprocessing import StandardScaler\n",
    "standard = StandardScaler()"
   ]
  },
  {
   "cell_type": "code",
   "execution_count": 8,
   "metadata": {},
   "outputs": [
    {
     "data": {
      "text/plain": [
       "array([[-1.37181459,  1.25418127,  2.74984143, ...,  2.97668662,\n",
       "        -1.22751105,  2.68012924],\n",
       "       [-1.30156227,  1.22771661,  2.64047481, ...,  3.03077869,\n",
       "        -1.21362189,  2.53473344],\n",
       "       [-1.31624186,  1.03000998,  2.85139615, ...,  2.59804213,\n",
       "        -1.22584435,  2.71243942],\n",
       "       ...,\n",
       "       [ 0.3823963 , -0.36794707, -0.46866201, ..., -0.07951534,\n",
       "         0.1730719 , -0.56704362],\n",
       "       [ 0.70220164, -0.45823828, -0.56352082, ..., -0.29588362,\n",
       "         0.08918137, -0.82552504],\n",
       "       [ 0.62251244, -0.53918903, -0.52780927, ..., -0.26883759,\n",
       "         0.14529358, -0.7447496 ]])"
      ]
     },
     "execution_count": 8,
     "metadata": {},
     "output_type": "execute_result"
    }
   ],
   "source": [
    "dataset2 = standard.fit_transform(dataset1)  # this will standardize each value in dataset and genrates each row arrays\n",
    "dataset2"
   ]
  },
  {
   "cell_type": "code",
   "execution_count": 9,
   "metadata": {},
   "outputs": [
    {
     "data": {
      "text/plain": [
       "(300, 7)"
      ]
     },
     "execution_count": 9,
     "metadata": {},
     "output_type": "execute_result"
    }
   ],
   "source": [
    "# checking array shape\n",
    "\n",
    "dataset2.shape"
   ]
  },
  {
   "cell_type": "markdown",
   "metadata": {},
   "source": [
    "# Step 3:Computing covariance matrix with standardized data"
   ]
  },
  {
   "cell_type": "markdown",
   "metadata": {},
   "source": [
    "The covariance matrix represents the correlation between two variables. This helps us to understand which two variables are heavily dependent on each other and to capture bias and redundancy in the dataset..\n",
    "\n",
    "\n",
    "If the entry in the matrix is with negative sign means they are indirectly proportional(-ve correlation) to each other. If the sign is positive (+ve correlation means they are directly proportional."
   ]
  },
  {
   "cell_type": "code",
   "execution_count": 10,
   "metadata": {},
   "outputs": [
    {
     "data": {
      "text/html": [
       "<div>\n",
       "<style scoped>\n",
       "    .dataframe tbody tr th:only-of-type {\n",
       "        vertical-align: middle;\n",
       "    }\n",
       "\n",
       "    .dataframe tbody tr th {\n",
       "        vertical-align: top;\n",
       "    }\n",
       "\n",
       "    .dataframe thead th {\n",
       "        text-align: right;\n",
       "    }\n",
       "</style>\n",
       "<table border=\"1\" class=\"dataframe\">\n",
       "  <thead>\n",
       "    <tr style=\"text-align: right;\">\n",
       "      <th></th>\n",
       "      <th>0</th>\n",
       "      <th>1</th>\n",
       "      <th>2</th>\n",
       "      <th>3</th>\n",
       "      <th>4</th>\n",
       "      <th>5</th>\n",
       "      <th>6</th>\n",
       "      <th>7</th>\n",
       "      <th>8</th>\n",
       "      <th>9</th>\n",
       "      <th>...</th>\n",
       "      <th>290</th>\n",
       "      <th>291</th>\n",
       "      <th>292</th>\n",
       "      <th>293</th>\n",
       "      <th>294</th>\n",
       "      <th>295</th>\n",
       "      <th>296</th>\n",
       "      <th>297</th>\n",
       "      <th>298</th>\n",
       "      <th>299</th>\n",
       "    </tr>\n",
       "  </thead>\n",
       "  <tbody>\n",
       "    <tr>\n",
       "      <th>mois</th>\n",
       "      <td>27.82</td>\n",
       "      <td>28.49</td>\n",
       "      <td>28.35</td>\n",
       "      <td>30.55</td>\n",
       "      <td>30.49</td>\n",
       "      <td>31.14</td>\n",
       "      <td>31.21</td>\n",
       "      <td>28.76</td>\n",
       "      <td>28.22</td>\n",
       "      <td>27.72</td>\n",
       "      <td>...</td>\n",
       "      <td>46.12</td>\n",
       "      <td>47.35</td>\n",
       "      <td>45.21</td>\n",
       "      <td>46.34</td>\n",
       "      <td>44.07</td>\n",
       "      <td>44.91</td>\n",
       "      <td>43.15</td>\n",
       "      <td>44.55</td>\n",
       "      <td>47.60</td>\n",
       "      <td>46.84</td>\n",
       "    </tr>\n",
       "    <tr>\n",
       "      <th>prot</th>\n",
       "      <td>21.43</td>\n",
       "      <td>21.26</td>\n",
       "      <td>19.99</td>\n",
       "      <td>20.15</td>\n",
       "      <td>21.28</td>\n",
       "      <td>20.23</td>\n",
       "      <td>20.97</td>\n",
       "      <td>21.41</td>\n",
       "      <td>20.48</td>\n",
       "      <td>21.19</td>\n",
       "      <td>...</td>\n",
       "      <td>10.30</td>\n",
       "      <td>10.31</td>\n",
       "      <td>9.39</td>\n",
       "      <td>10.00</td>\n",
       "      <td>10.96</td>\n",
       "      <td>11.07</td>\n",
       "      <td>11.79</td>\n",
       "      <td>11.01</td>\n",
       "      <td>10.43</td>\n",
       "      <td>9.91</td>\n",
       "    </tr>\n",
       "    <tr>\n",
       "      <th>fat</th>\n",
       "      <td>44.87</td>\n",
       "      <td>43.89</td>\n",
       "      <td>45.78</td>\n",
       "      <td>43.13</td>\n",
       "      <td>41.65</td>\n",
       "      <td>42.31</td>\n",
       "      <td>41.34</td>\n",
       "      <td>41.60</td>\n",
       "      <td>45.10</td>\n",
       "      <td>45.29</td>\n",
       "      <td>...</td>\n",
       "      <td>16.38</td>\n",
       "      <td>15.45</td>\n",
       "      <td>16.23</td>\n",
       "      <td>17.73</td>\n",
       "      <td>18.39</td>\n",
       "      <td>17.00</td>\n",
       "      <td>18.46</td>\n",
       "      <td>16.03</td>\n",
       "      <td>15.18</td>\n",
       "      <td>15.50</td>\n",
       "    </tr>\n",
       "    <tr>\n",
       "      <th>ash</th>\n",
       "      <td>5.11</td>\n",
       "      <td>5.34</td>\n",
       "      <td>5.08</td>\n",
       "      <td>4.79</td>\n",
       "      <td>4.82</td>\n",
       "      <td>4.92</td>\n",
       "      <td>4.71</td>\n",
       "      <td>5.28</td>\n",
       "      <td>5.02</td>\n",
       "      <td>5.16</td>\n",
       "      <td>...</td>\n",
       "      <td>2.35</td>\n",
       "      <td>2.34</td>\n",
       "      <td>2.14</td>\n",
       "      <td>2.32</td>\n",
       "      <td>2.56</td>\n",
       "      <td>2.49</td>\n",
       "      <td>2.43</td>\n",
       "      <td>2.43</td>\n",
       "      <td>2.32</td>\n",
       "      <td>2.27</td>\n",
       "    </tr>\n",
       "    <tr>\n",
       "      <th>sodium</th>\n",
       "      <td>1.77</td>\n",
       "      <td>1.79</td>\n",
       "      <td>1.63</td>\n",
       "      <td>1.61</td>\n",
       "      <td>1.64</td>\n",
       "      <td>1.65</td>\n",
       "      <td>1.58</td>\n",
       "      <td>1.75</td>\n",
       "      <td>1.71</td>\n",
       "      <td>1.66</td>\n",
       "      <td>...</td>\n",
       "      <td>0.61</td>\n",
       "      <td>0.62</td>\n",
       "      <td>0.55</td>\n",
       "      <td>0.59</td>\n",
       "      <td>0.66</td>\n",
       "      <td>0.66</td>\n",
       "      <td>0.67</td>\n",
       "      <td>0.64</td>\n",
       "      <td>0.56</td>\n",
       "      <td>0.57</td>\n",
       "    </tr>\n",
       "    <tr>\n",
       "      <th>carb</th>\n",
       "      <td>0.77</td>\n",
       "      <td>1.02</td>\n",
       "      <td>0.80</td>\n",
       "      <td>1.38</td>\n",
       "      <td>1.76</td>\n",
       "      <td>1.40</td>\n",
       "      <td>1.77</td>\n",
       "      <td>2.95</td>\n",
       "      <td>1.18</td>\n",
       "      <td>0.64</td>\n",
       "      <td>...</td>\n",
       "      <td>24.85</td>\n",
       "      <td>24.55</td>\n",
       "      <td>27.03</td>\n",
       "      <td>23.61</td>\n",
       "      <td>24.02</td>\n",
       "      <td>25.36</td>\n",
       "      <td>24.17</td>\n",
       "      <td>25.98</td>\n",
       "      <td>24.47</td>\n",
       "      <td>25.48</td>\n",
       "    </tr>\n",
       "    <tr>\n",
       "      <th>cal</th>\n",
       "      <td>4.93</td>\n",
       "      <td>4.84</td>\n",
       "      <td>4.95</td>\n",
       "      <td>4.74</td>\n",
       "      <td>4.67</td>\n",
       "      <td>4.67</td>\n",
       "      <td>4.63</td>\n",
       "      <td>4.72</td>\n",
       "      <td>4.93</td>\n",
       "      <td>4.95</td>\n",
       "      <td>...</td>\n",
       "      <td>2.88</td>\n",
       "      <td>2.78</td>\n",
       "      <td>2.92</td>\n",
       "      <td>2.94</td>\n",
       "      <td>3.05</td>\n",
       "      <td>2.91</td>\n",
       "      <td>3.10</td>\n",
       "      <td>2.92</td>\n",
       "      <td>2.76</td>\n",
       "      <td>2.81</td>\n",
       "    </tr>\n",
       "  </tbody>\n",
       "</table>\n",
       "<p>7 rows × 300 columns</p>\n",
       "</div>"
      ],
      "text/plain": [
       "          0      1      2      3      4      5      6      7      8      9    \\\n",
       "mois    27.82  28.49  28.35  30.55  30.49  31.14  31.21  28.76  28.22  27.72   \n",
       "prot    21.43  21.26  19.99  20.15  21.28  20.23  20.97  21.41  20.48  21.19   \n",
       "fat     44.87  43.89  45.78  43.13  41.65  42.31  41.34  41.60  45.10  45.29   \n",
       "ash      5.11   5.34   5.08   4.79   4.82   4.92   4.71   5.28   5.02   5.16   \n",
       "sodium   1.77   1.79   1.63   1.61   1.64   1.65   1.58   1.75   1.71   1.66   \n",
       "carb     0.77   1.02   0.80   1.38   1.76   1.40   1.77   2.95   1.18   0.64   \n",
       "cal      4.93   4.84   4.95   4.74   4.67   4.67   4.63   4.72   4.93   4.95   \n",
       "\n",
       "        ...    290    291    292    293    294    295    296    297    298  \\\n",
       "mois    ...  46.12  47.35  45.21  46.34  44.07  44.91  43.15  44.55  47.60   \n",
       "prot    ...  10.30  10.31   9.39  10.00  10.96  11.07  11.79  11.01  10.43   \n",
       "fat     ...  16.38  15.45  16.23  17.73  18.39  17.00  18.46  16.03  15.18   \n",
       "ash     ...   2.35   2.34   2.14   2.32   2.56   2.49   2.43   2.43   2.32   \n",
       "sodium  ...   0.61   0.62   0.55   0.59   0.66   0.66   0.67   0.64   0.56   \n",
       "carb    ...  24.85  24.55  27.03  23.61  24.02  25.36  24.17  25.98  24.47   \n",
       "cal     ...   2.88   2.78   2.92   2.94   3.05   2.91   3.10   2.92   2.76   \n",
       "\n",
       "          299  \n",
       "mois    46.84  \n",
       "prot     9.91  \n",
       "fat     15.50  \n",
       "ash      2.27  \n",
       "sodium   0.57  \n",
       "carb    25.48  \n",
       "cal      2.81  \n",
       "\n",
       "[7 rows x 300 columns]"
      ]
     },
     "execution_count": 10,
     "metadata": {},
     "output_type": "execute_result"
    }
   ],
   "source": [
    "# lets look how transpose lookss like..for understanding purpose only\n",
    "dataset1.transpose()"
   ]
  },
  {
   "cell_type": "code",
   "execution_count": 11,
   "metadata": {},
   "outputs": [
    {
     "data": {
      "text/plain": [
       "array([[ 1.00334448,  0.36145252, -0.17189118,  0.26644367, -0.10262097,\n",
       "        -0.59378092, -0.7669972 ],\n",
       "       [ 0.36145252,  1.00334448,  0.49966723,  0.82659903,  0.43056473,\n",
       "        -0.85639691,  0.07049308],\n",
       "       [-0.17189118,  0.49966723,  1.00334448,  0.79428157,  0.93644671,\n",
       "        -0.64237943,  0.76712418],\n",
       "       [ 0.26644367,  0.82659903,  0.79428157,  1.00334448,  0.8108249 ,\n",
       "        -0.90199502,  0.32756032],\n",
       "       [-0.10262097,  0.43056473,  0.93644671,  0.8108249 ,  1.00334448,\n",
       "        -0.6222505 ,  0.67420485],\n",
       "       [-0.59378092, -0.85639691, -0.64237943, -0.90199502, -0.6222505 ,\n",
       "         1.00334448, -0.02356313],\n",
       "       [-0.7669972 ,  0.07049308,  0.76712418,  0.32756032,  0.67420485,\n",
       "        -0.02356313,  1.00334448]])"
      ]
     },
     "execution_count": 11,
     "metadata": {},
     "output_type": "execute_result"
    }
   ],
   "source": [
    "# lets compute covariance for each feature with all features (including itself)\n",
    "# so transpose use will do \n",
    "dataset2_cov = np.cov(dataset2.transpose())\n",
    "dataset2_cov"
   ]
  },
  {
   "cell_type": "code",
   "execution_count": 12,
   "metadata": {},
   "outputs": [
    {
     "data": {
      "text/plain": [
       "(7, 7)"
      ]
     },
     "execution_count": 12,
     "metadata": {},
     "output_type": "execute_result"
    }
   ],
   "source": [
    "dataset2_cov.shape"
   ]
  },
  {
   "cell_type": "code",
   "execution_count": 13,
   "metadata": {},
   "outputs": [
    {
     "data": {
      "image/png": "[encoded data removed]",
      "text/plain": [
       "<Figure size 576x504 with 2 Axes>"
      ]
     },
     "metadata": {
      "needs_background": "light"
     },
     "output_type": "display_data"
    }
   ],
   "source": [
    "#understanding covariance matrix..by visually\n",
    "\n",
    "import seaborn as sns\n",
    "import matplotlib.pyplot as plt\n",
    "\n",
    "labels = [i for i in dataset1.keys()]\n",
    "\n",
    "f, ax = plt.subplots(figsize=(8, 7))\n",
    "ax = sns.heatmap(dataset2_cov, xticklabels=labels, yticklabels=labels, annot=True)\n",
    "plt.show()"
   ]
  },
  {
   "cell_type": "markdown",
   "metadata": {},
   "source": [
    "# Step 4: Calculating Eigenvectors and Eigenvalues on the covariance matrix "
   ]
  },
  {
   "cell_type": "markdown",
   "metadata": {},
   "source": [
    "These two algebraic formulations are always computed as a pair which is also known as Eigendecomposition helps to reduce the dimension space by compressing the data. The core of the Principal Component Analysis is built on these values.\n",
    "\n",
    "\n",
    "Each Eigenvector will have a corresponding Eigenvalue and the sum of all the Eigenvalues represents the overall variance in the entire dataset. It is very important to compute the Eigenvalues because it explains where the maximum variance lies in the dataset."
   ]
  },
  {
   "cell_type": "code",
   "execution_count": 14,
   "metadata": {},
   "outputs": [
    {
     "name": "stdout",
     "output_type": "stream",
     "text": [
      "eig_vecs [[ 0.06  0.63 -0.42 -0.22  0.01 -0.45 -0.42]\n",
      " [ 0.38  0.27  0.75 -0.01  0.39  0.   -0.28]\n",
      " [ 0.45 -0.23 -0.2  -0.51 -0.17  0.53 -0.38]\n",
      " [ 0.47  0.11  0.06  0.55 -0.67 -0.06 -0.06]\n",
      " [ 0.44 -0.2  -0.46  0.45  0.6  -0.    0.  ]\n",
      " [-0.42 -0.32  0.05  0.33 -0.01  0.   -0.78]\n",
      " [ 0.24 -0.57  0.11 -0.28 -0.08 -0.72 -0.01]]\n",
      "\n",
      "eig_vals [4.19 2.3  0.42 0.1  0.03 0.   0.  ]\n"
     ]
    }
   ],
   "source": [
    "eig_vals, eig_vecs = np.linalg.eig(dataset2_cov)\n",
    "\n",
    "\n",
    "print('eig_vecs', eig_vecs.round(2))\n",
    "print()\n",
    "print('eig_vals', eig_vals.round(2))"
   ]
  },
  {
   "cell_type": "markdown",
   "metadata": {},
   "source": [
    "# Step 5: Sorting the Eigenvalues list in decreasing order"
   ]
  },
  {
   "cell_type": "markdown",
   "metadata": {},
   "source": [
    "After completing Eigendecomposition, we need to order the Eigenvalues in a descending order where the first value is the most significant and thus forms our first principal component."
   ]
  },
  {
   "cell_type": "code",
   "execution_count": 15,
   "metadata": {},
   "outputs": [
    {
     "data": {
      "text/plain": [
       "[4.186, 2.298, 0.416, 0.095, 0.028, 0.0, 0.0]"
      ]
     },
     "execution_count": 15,
     "metadata": {},
     "output_type": "execute_result"
    }
   ],
   "source": [
    "sorted(eig_vals.round(3), reverse=True)"
   ]
  },
  {
   "cell_type": "markdown",
   "metadata": {},
   "source": [
    "# Step5: Selecting the number of Principal Components "
   ]
  },
  {
   "cell_type": "code",
   "execution_count": 16,
   "metadata": {},
   "outputs": [
    {
     "name": "stdout",
     "output_type": "stream",
     "text": [
      "variance captured by each eig_value is \n",
      " [59.59688423344788, 32.72081982658086, 5.922319175390228, 1.359631818680531, 0.39538597254043883, 0.004822990783855403, 0.0001359825762189905]\n"
     ]
    }
   ],
   "source": [
    "total =sum(eig_vals)\n",
    "variance = [(i / total)*100 for i in sorted(eig_vals, reverse=True)] # variance corresponding to each eig_value\n",
    "print('variance captured by each eig_value is \\n', variance)"
   ]
  },
  {
   "cell_type": "markdown",
   "metadata": {},
   "source": [
    "The above output is nothing but, From the above, we can see that the first principal component (PC1) captures overall 60% of the variance followed by PC2 with a 32.7% variance."
   ]
  },
  {
   "cell_type": "code",
   "execution_count": 17,
   "metadata": {},
   "outputs": [],
   "source": [
    "# Now taking cummulative variance that is adding variance..\n",
    "\n",
    "cum_variance = np.cumsum(variance)"
   ]
  },
  {
   "cell_type": "code",
   "execution_count": 18,
   "metadata": {},
   "outputs": [
    {
     "data": {
      "text/plain": [
       "array([ 59.59688423,  92.31770406,  98.24002324,  99.59965505,\n",
       "        99.99504103,  99.99986402, 100.        ])"
      ]
     },
     "execution_count": 18,
     "metadata": {},
     "output_type": "execute_result"
    }
   ],
   "source": [
    "cum_variance"
   ]
  },
  {
   "cell_type": "markdown",
   "metadata": {},
   "source": [
    "From above output,\n",
    "\n",
    "From the cumulative variance, overall 92% is being captured by 2 components and 98% of the variance is being explained by the first 3 components. Hence, we can decide that the number of principal components for our dataset is 3."
   ]
  },
  {
   "cell_type": "markdown",
   "metadata": {},
   "source": [
    " #### We can also visualize the same through the below scree plot with a cumulative sum of the explained variance ratio"
   ]
  },
  {
   "cell_type": "code",
   "execution_count": 19,
   "metadata": {},
   "outputs": [
    {
     "data": {
      "image/png": "[encoded data removed]",
      "text/plain": [
       "<Figure size 432x288 with 1 Axes>"
      ]
     },
     "metadata": {
      "needs_background": "light"
     },
     "output_type": "display_data"
    }
   ],
   "source": [
    "from sklearn.decomposition import PCA\n",
    "\n",
    "pca = PCA().fit(dataset2)\n",
    "plt.plot(np.cumsum(pca.explained_variance_ratio_))\n",
    "plt.xlabel('No of components')\n",
    "plt.ylabel('Cumulative explained variance')\n",
    "plt.show()"
   ]
  },
  {
   "cell_type": "markdown",
   "metadata": {},
   "source": [
    "# Step 7:Creating Principal Components "
   ]
  },
  {
   "cell_type": "code",
   "execution_count": 20,
   "metadata": {},
   "outputs": [
    {
     "data": {
      "text/html": [
       "<div>\n",
       "<style scoped>\n",
       "    .dataframe tbody tr th:only-of-type {\n",
       "        vertical-align: middle;\n",
       "    }\n",
       "\n",
       "    .dataframe tbody tr th {\n",
       "        vertical-align: top;\n",
       "    }\n",
       "\n",
       "    .dataframe thead th {\n",
       "        text-align: right;\n",
       "    }\n",
       "</style>\n",
       "<table border=\"1\" class=\"dataframe\">\n",
       "  <thead>\n",
       "    <tr style=\"text-align: right;\">\n",
       "      <th></th>\n",
       "      <th>PC1</th>\n",
       "      <th>PC2</th>\n",
       "      <th>PC3</th>\n",
       "      <th>target</th>\n",
       "    </tr>\n",
       "  </thead>\n",
       "  <tbody>\n",
       "    <tr>\n",
       "      <th>0</th>\n",
       "      <td>5.010343</td>\n",
       "      <td>2.679215</td>\n",
       "      <td>-0.039327</td>\n",
       "      <td>A</td>\n",
       "    </tr>\n",
       "    <tr>\n",
       "      <th>1</th>\n",
       "      <td>5.023755</td>\n",
       "      <td>2.529295</td>\n",
       "      <td>-0.097056</td>\n",
       "      <td>A</td>\n",
       "    </tr>\n",
       "    <tr>\n",
       "      <th>2</th>\n",
       "      <td>4.805439</td>\n",
       "      <td>2.673700</td>\n",
       "      <td>-0.075475</td>\n",
       "      <td>A</td>\n",
       "    </tr>\n",
       "    <tr>\n",
       "      <th>3</th>\n",
       "      <td>4.469543</td>\n",
       "      <td>2.285029</td>\n",
       "      <td>-0.120233</td>\n",
       "      <td>A</td>\n",
       "    </tr>\n",
       "    <tr>\n",
       "      <th>4</th>\n",
       "      <td>4.471893</td>\n",
       "      <td>2.159152</td>\n",
       "      <td>-0.000738</td>\n",
       "      <td>A</td>\n",
       "    </tr>\n",
       "    <tr>\n",
       "      <th>...</th>\n",
       "      <td>...</td>\n",
       "      <td>...</td>\n",
       "      <td>...</td>\n",
       "      <td>...</td>\n",
       "    </tr>\n",
       "    <tr>\n",
       "      <th>295</th>\n",
       "      <td>-0.535510</td>\n",
       "      <td>-0.530843</td>\n",
       "      <td>-0.426490</td>\n",
       "      <td>J</td>\n",
       "    </tr>\n",
       "    <tr>\n",
       "      <th>296</th>\n",
       "      <td>-0.339636</td>\n",
       "      <td>-0.243230</td>\n",
       "      <td>-0.281174</td>\n",
       "      <td>J</td>\n",
       "    </tr>\n",
       "    <tr>\n",
       "      <th>297</th>\n",
       "      <td>-0.646433</td>\n",
       "      <td>-0.515434</td>\n",
       "      <td>-0.370378</td>\n",
       "      <td>J</td>\n",
       "    </tr>\n",
       "    <tr>\n",
       "      <th>298</th>\n",
       "      <td>-0.865078</td>\n",
       "      <td>-0.921790</td>\n",
       "      <td>-0.493755</td>\n",
       "      <td>J</td>\n",
       "    </tr>\n",
       "    <tr>\n",
       "      <th>299</th>\n",
       "      <td>-0.895868</td>\n",
       "      <td>-0.767878</td>\n",
       "      <td>-0.530108</td>\n",
       "      <td>J</td>\n",
       "    </tr>\n",
       "  </tbody>\n",
       "</table>\n",
       "<p>300 rows × 4 columns</p>\n",
       "</div>"
      ],
      "text/plain": [
       "          PC1       PC2       PC3 target\n",
       "0    5.010343  2.679215 -0.039327      A\n",
       "1    5.023755  2.529295 -0.097056      A\n",
       "2    4.805439  2.673700 -0.075475      A\n",
       "3    4.469543  2.285029 -0.120233      A\n",
       "4    4.471893  2.159152 -0.000738      A\n",
       "..        ...       ...       ...    ...\n",
       "295 -0.535510 -0.530843 -0.426490      J\n",
       "296 -0.339636 -0.243230 -0.281174      J\n",
       "297 -0.646433 -0.515434 -0.370378      J\n",
       "298 -0.865078 -0.921790 -0.493755      J\n",
       "299 -0.895868 -0.767878 -0.530108      J\n",
       "\n",
       "[300 rows x 4 columns]"
      ]
     },
     "execution_count": 20,
     "metadata": {},
     "output_type": "execute_result"
    }
   ],
   "source": [
    "from sklearn.decomposition import PCA\n",
    "pca = PCA(n_components = 3)\n",
    "pcs = pca.fit_transform(dataset2)\n",
    "df_new = pd.DataFrame(data=pcs, columns=['PC1','PC2','PC3'])\n",
    "df_new['target'] = dataset['Brand'] \n",
    "df_new"
   ]
  },
  {
   "cell_type": "markdown",
   "metadata": {},
   "source": [
    " ### Now observe column number initially we have 7 columns & at final stepp we have reduced it in 3 column numbers with PCA.\n",
    "***"
   ]
  },
  {
   "cell_type": "markdown",
   "metadata": {},
   "source": [
    " # -------------All above steps are for basic understanding----------------------#"
   ]
  },
  {
   "cell_type": "markdown",
   "metadata": {},
   "source": [
    "### <font color=blue> Let's do it in fast way.. using skelearn only... </font>"
   ]
  },
  {
   "cell_type": "code",
   "execution_count": 21,
   "metadata": {},
   "outputs": [],
   "source": [
    "import numpy as np\n",
    "import pandas as pd\n",
    "\n",
    "from sklearn.decomposition import PCA"
   ]
  },
  {
   "cell_type": "code",
   "execution_count": 22,
   "metadata": {},
   "outputs": [
    {
     "data": {
      "text/html": [
       "<div>\n",
       "<style scoped>\n",
       "    .dataframe tbody tr th:only-of-type {\n",
       "        vertical-align: middle;\n",
       "    }\n",
       "\n",
       "    .dataframe tbody tr th {\n",
       "        vertical-align: top;\n",
       "    }\n",
       "\n",
       "    .dataframe thead th {\n",
       "        text-align: right;\n",
       "    }\n",
       "</style>\n",
       "<table border=\"1\" class=\"dataframe\">\n",
       "  <thead>\n",
       "    <tr style=\"text-align: right;\">\n",
       "      <th></th>\n",
       "      <th>Brand</th>\n",
       "      <th>mois</th>\n",
       "      <th>prot</th>\n",
       "      <th>fat</th>\n",
       "      <th>ash</th>\n",
       "      <th>sodium</th>\n",
       "      <th>carb</th>\n",
       "      <th>cal</th>\n",
       "    </tr>\n",
       "  </thead>\n",
       "  <tbody>\n",
       "    <tr>\n",
       "      <th>0</th>\n",
       "      <td>A</td>\n",
       "      <td>27.82</td>\n",
       "      <td>21.43</td>\n",
       "      <td>44.87</td>\n",
       "      <td>5.11</td>\n",
       "      <td>1.77</td>\n",
       "      <td>0.77</td>\n",
       "      <td>4.93</td>\n",
       "    </tr>\n",
       "    <tr>\n",
       "      <th>1</th>\n",
       "      <td>A</td>\n",
       "      <td>28.49</td>\n",
       "      <td>21.26</td>\n",
       "      <td>43.89</td>\n",
       "      <td>5.34</td>\n",
       "      <td>1.79</td>\n",
       "      <td>1.02</td>\n",
       "      <td>4.84</td>\n",
       "    </tr>\n",
       "    <tr>\n",
       "      <th>2</th>\n",
       "      <td>A</td>\n",
       "      <td>28.35</td>\n",
       "      <td>19.99</td>\n",
       "      <td>45.78</td>\n",
       "      <td>5.08</td>\n",
       "      <td>1.63</td>\n",
       "      <td>0.80</td>\n",
       "      <td>4.95</td>\n",
       "    </tr>\n",
       "    <tr>\n",
       "      <th>3</th>\n",
       "      <td>A</td>\n",
       "      <td>30.55</td>\n",
       "      <td>20.15</td>\n",
       "      <td>43.13</td>\n",
       "      <td>4.79</td>\n",
       "      <td>1.61</td>\n",
       "      <td>1.38</td>\n",
       "      <td>4.74</td>\n",
       "    </tr>\n",
       "    <tr>\n",
       "      <th>4</th>\n",
       "      <td>A</td>\n",
       "      <td>30.49</td>\n",
       "      <td>21.28</td>\n",
       "      <td>41.65</td>\n",
       "      <td>4.82</td>\n",
       "      <td>1.64</td>\n",
       "      <td>1.76</td>\n",
       "      <td>4.67</td>\n",
       "    </tr>\n",
       "  </tbody>\n",
       "</table>\n",
       "</div>"
      ],
      "text/plain": [
       "  Brand   mois   prot    fat   ash  sodium  carb   cal\n",
       "0     A  27.82  21.43  44.87  5.11    1.77  0.77  4.93\n",
       "1     A  28.49  21.26  43.89  5.34    1.79  1.02  4.84\n",
       "2     A  28.35  19.99  45.78  5.08    1.63  0.80  4.95\n",
       "3     A  30.55  20.15  43.13  4.79    1.61  1.38  4.74\n",
       "4     A  30.49  21.28  41.65  4.82    1.64  1.76  4.67"
      ]
     },
     "execution_count": 22,
     "metadata": {},
     "output_type": "execute_result"
    }
   ],
   "source": [
    "dataset = pd.read_csv('Pizza.csv')\n",
    "dataset.head()"
   ]
  },
  {
   "cell_type": "code",
   "execution_count": 23,
   "metadata": {},
   "outputs": [],
   "source": [
    "X = dataset.drop(['Brand'], axis=1)"
   ]
  },
  {
   "cell_type": "code",
   "execution_count": 24,
   "metadata": {},
   "outputs": [],
   "source": [
    "from sklearn.preprocessing import StandardScaler\n",
    "X = StandardScaler().fit_transform(X)"
   ]
  },
  {
   "cell_type": "code",
   "execution_count": 25,
   "metadata": {},
   "outputs": [],
   "source": [
    "from sklearn.decomposition import PCA\n",
    "\n",
    "pca = PCA(n_components=3) # create instance.. explore more about PCA parametres in detail..\n",
    "dimn_red = pca.fit_transform(X)"
   ]
  },
  {
   "cell_type": "code",
   "execution_count": 26,
   "metadata": {},
   "outputs": [
    {
     "name": "stdout",
     "output_type": "stream",
     "text": [
      "[0.59596884 0.3272082  0.05922319]\n"
     ]
    }
   ],
   "source": [
    "print(pca.explained_variance_ratio_)"
   ]
  },
  {
   "cell_type": "code",
   "execution_count": 27,
   "metadata": {},
   "outputs": [
    {
     "data": {
      "text/html": [
       "<div>\n",
       "<style scoped>\n",
       "    .dataframe tbody tr th:only-of-type {\n",
       "        vertical-align: middle;\n",
       "    }\n",
       "\n",
       "    .dataframe tbody tr th {\n",
       "        vertical-align: top;\n",
       "    }\n",
       "\n",
       "    .dataframe thead th {\n",
       "        text-align: right;\n",
       "    }\n",
       "</style>\n",
       "<table border=\"1\" class=\"dataframe\">\n",
       "  <thead>\n",
       "    <tr style=\"text-align: right;\">\n",
       "      <th></th>\n",
       "      <th>PC1</th>\n",
       "      <th>PC2</th>\n",
       "      <th>PC3</th>\n",
       "      <th>target</th>\n",
       "    </tr>\n",
       "  </thead>\n",
       "  <tbody>\n",
       "    <tr>\n",
       "      <th>0</th>\n",
       "      <td>5.010343</td>\n",
       "      <td>2.679215</td>\n",
       "      <td>-0.039327</td>\n",
       "      <td>A</td>\n",
       "    </tr>\n",
       "    <tr>\n",
       "      <th>1</th>\n",
       "      <td>5.023755</td>\n",
       "      <td>2.529295</td>\n",
       "      <td>-0.097056</td>\n",
       "      <td>A</td>\n",
       "    </tr>\n",
       "    <tr>\n",
       "      <th>2</th>\n",
       "      <td>4.805439</td>\n",
       "      <td>2.673700</td>\n",
       "      <td>-0.075475</td>\n",
       "      <td>A</td>\n",
       "    </tr>\n",
       "    <tr>\n",
       "      <th>3</th>\n",
       "      <td>4.469543</td>\n",
       "      <td>2.285029</td>\n",
       "      <td>-0.120233</td>\n",
       "      <td>A</td>\n",
       "    </tr>\n",
       "    <tr>\n",
       "      <th>4</th>\n",
       "      <td>4.471893</td>\n",
       "      <td>2.159152</td>\n",
       "      <td>-0.000738</td>\n",
       "      <td>A</td>\n",
       "    </tr>\n",
       "    <tr>\n",
       "      <th>...</th>\n",
       "      <td>...</td>\n",
       "      <td>...</td>\n",
       "      <td>...</td>\n",
       "      <td>...</td>\n",
       "    </tr>\n",
       "    <tr>\n",
       "      <th>295</th>\n",
       "      <td>-0.535510</td>\n",
       "      <td>-0.530843</td>\n",
       "      <td>-0.426490</td>\n",
       "      <td>J</td>\n",
       "    </tr>\n",
       "    <tr>\n",
       "      <th>296</th>\n",
       "      <td>-0.339636</td>\n",
       "      <td>-0.243230</td>\n",
       "      <td>-0.281174</td>\n",
       "      <td>J</td>\n",
       "    </tr>\n",
       "    <tr>\n",
       "      <th>297</th>\n",
       "      <td>-0.646433</td>\n",
       "      <td>-0.515434</td>\n",
       "      <td>-0.370378</td>\n",
       "      <td>J</td>\n",
       "    </tr>\n",
       "    <tr>\n",
       "      <th>298</th>\n",
       "      <td>-0.865078</td>\n",
       "      <td>-0.921790</td>\n",
       "      <td>-0.493755</td>\n",
       "      <td>J</td>\n",
       "    </tr>\n",
       "    <tr>\n",
       "      <th>299</th>\n",
       "      <td>-0.895868</td>\n",
       "      <td>-0.767878</td>\n",
       "      <td>-0.530108</td>\n",
       "      <td>J</td>\n",
       "    </tr>\n",
       "  </tbody>\n",
       "</table>\n",
       "<p>300 rows × 4 columns</p>\n",
       "</div>"
      ],
      "text/plain": [
       "          PC1       PC2       PC3 target\n",
       "0    5.010343  2.679215 -0.039327      A\n",
       "1    5.023755  2.529295 -0.097056      A\n",
       "2    4.805439  2.673700 -0.075475      A\n",
       "3    4.469543  2.285029 -0.120233      A\n",
       "4    4.471893  2.159152 -0.000738      A\n",
       "..        ...       ...       ...    ...\n",
       "295 -0.535510 -0.530843 -0.426490      J\n",
       "296 -0.339636 -0.243230 -0.281174      J\n",
       "297 -0.646433 -0.515434 -0.370378      J\n",
       "298 -0.865078 -0.921790 -0.493755      J\n",
       "299 -0.895868 -0.767878 -0.530108      J\n",
       "\n",
       "[300 rows x 4 columns]"
      ]
     },
     "execution_count": 27,
     "metadata": {},
     "output_type": "execute_result"
    }
   ],
   "source": [
    "df_PCA = pd.DataFrame(data=pcs, columns=['PC1','PC2','PC3'])\n",
    "df_PCA['target'] = dataset['Brand'] \n",
    "df_PCA"
   ]
  },
  {
   "cell_type": "markdown",
   "metadata": {},
   "source": [
    "# Conclusion:"
   ]
  },
  {
   "cell_type": "markdown",
   "metadata": {},
   "source": [
    "* PCA is dimensionality reduction technique.\n",
    "\n",
    "\n",
    "* Helpful in data preprocessing step.\n",
    "\n",
    "\n",
    "* One should keep in mind that the components need to be select with utmost care or there would be a chance of information loss. This PCA technique can be applied and would be a great help if you are dealing with multicollinearity issues in your dataset.\n",
    "\n",
    "***"
   ]
  }
 ],
 "metadata": {
  "kernelspec": {
   "display_name": "Python 3",
   "language": "python",
   "name": "python3"
  },
  "language_info": {
   "codemirror_mode": {
    "name": "ipython",
    "version": 3
   },
   "file_extension": ".py",
   "mimetype": "text/x-python",
   "name": "python",
   "nbconvert_exporter": "python",
   "pygments_lexer": "ipython3",
   "version": "3.8.3"
  },
  "toc": {
   "base_numbering": 1,
   "nav_menu": {},
   "number_sections": true,
   "sideBar": true,
   "skip_h1_title": false,
   "title_cell": "Table of Contents",
   "title_sidebar": "Contents",
   "toc_cell": false,
   "toc_position": {},
   "toc_section_display": true,
   "toc_window_display": false
  }
 },
 "nbformat": 4,
 "nbformat_minor": 4
}
